{
 "cells": [
  {
   "cell_type": "code",
   "execution_count": 1,
   "metadata": {},
   "outputs": [],
   "source": [
    "import numpy as np\n",
    "import multiprocessing"
   ]
  },
  {
   "cell_type": "code",
   "execution_count": 7,
   "metadata": {},
   "outputs": [],
   "source": [
    "#nPC = 1\n",
    "\n",
    "print(\"There are %d CPUs available on this machine\" % multiprocessing.cpu_count())\n",
    "nPC = multiprocessing.cpu_count()\n",
    "print(\"You are using %d CPU(s)\" % nPC)\n",
    "\n",
    "def test_W_Q(i0):\n",
    "    w = np.full(2,i0)\n",
    "    q = np.full((2,2),i0)\n",
    "    return w,q"
   ]
  },
  {
   "cell_type": "code",
   "execution_count": 15,
   "metadata": {},
   "outputs": [],
   "source": [
    "#w,q=test_W_Q(i0)\n",
    "n = 3\n",
    "ilist = list(range(n))\n",
    "pool = multiprocessing.Pool(processes=6)\n",
    "res = pool.map(test_W_Q, ilist)\n",
    "pool.close()"
   ]
  },
  {
   "cell_type": "code",
   "execution_count": 16,
   "metadata": {},
   "outputs": [
    {
     "name": "stdout",
     "output_type": "stream",
     "text": [
      "[(array([0, 0]), array([[0, 0],\n",
      "       [0, 0]])), (array([1, 1]), array([[1, 1],\n",
      "       [1, 1]])), (array([2, 2]), array([[2, 2],\n",
      "       [2, 2]]))]\n"
     ]
    }
   ],
   "source": [
    "print(res)"
   ]
  },
  {
   "cell_type": "code",
   "execution_count": 24,
   "metadata": {},
   "outputs": [],
   "source": [
    "w=np.array([r[0] for r in res])\n",
    "q=np.array([r[1] for r in res])"
   ]
  },
  {
   "cell_type": "code",
   "execution_count": 25,
   "metadata": {},
   "outputs": [
    {
     "name": "stdout",
     "output_type": "stream",
     "text": [
      "[[0 0]\n",
      " [1 1]\n",
      " [2 2]]\n",
      "(3, 2)\n"
     ]
    }
   ],
   "source": [
    "print(w)\n",
    "print(w.shape)"
   ]
  },
  {
   "cell_type": "code",
   "execution_count": 26,
   "metadata": {},
   "outputs": [
    {
     "name": "stdout",
     "output_type": "stream",
     "text": [
      "[[[0 0]\n",
      "  [0 0]]\n",
      "\n",
      " [[1 1]\n",
      "  [1 1]]\n",
      "\n",
      " [[2 2]\n",
      "  [2 2]]]\n",
      "(3, 2, 2)\n"
     ]
    }
   ],
   "source": [
    "print(q)\n",
    "print(q.shape)"
   ]
  },
  {
   "cell_type": "code",
   "execution_count": null,
   "metadata": {},
   "outputs": [],
   "source": []
  }
 ],
 "metadata": {
  "kernelspec": {
   "display_name": "Python 2",
   "language": "python",
   "name": "python2"
  },
  "language_info": {
   "codemirror_mode": {
    "name": "ipython",
    "version": 2
   },
   "file_extension": ".py",
   "mimetype": "text/x-python",
   "name": "python",
   "nbconvert_exporter": "python",
   "pygments_lexer": "ipython2",
   "version": "2.7.15"
  }
 },
 "nbformat": 4,
 "nbformat_minor": 2
}
